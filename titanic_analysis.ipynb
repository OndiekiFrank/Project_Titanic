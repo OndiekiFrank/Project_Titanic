{
 "cells": [
  {
   "cell_type": "markdown",
   "metadata": {},
   "source": [
    "# Titanic Survival Analysis\n",
    "\n",
    "## Introduction\n",
    "\n",
    "This project explores the Titanic dataset to uncover patterns and factors that influenced passenger survival during the tragic 1912 sinking.  \n",
    "By analyzing demographic, ticket, and survival data, we aim to draw actionable insights using Python, Pandas, and Tableau.  \n",
    "Our final goal is to communicate findings through visualizations and a structured presentation.\n",
    "\n",
    "\n",
    "## 1. Business Understanding\n",
    "\n",
    "The sinking of the RMS Titanic in 1912 is one of the most infamous maritime disasters in history. This dataset provides detailed information on the passengers aboard the Titanic, such as age, gender, ticket class, and whether they survived.\n",
    "\n",
    "The goal of this analysis is to apply data science techniques to gain insights into the factors that influenced survival rates. Specifically, we aim to answer questions like:\n",
    "\n",
    "- Did gender or age affect a passenger's chance of survival?\n",
    "- Were passengers in certain classes more likely to survive?\n",
    "- What role did family size or port of embarkation play?\n",
    "\n",
    "Understanding these patterns is important not only for historical interest but also for developing predictive models that can simulate or explain survival in similar scenarios.\n",
    "ondieki frank\n",
    "22:17\n",
    "This project will go through the stages of:\n",
    "- Cleaning and preparing the data,\n",
    "- Performing exploratory data analysis (EDA),\n",
    "- Generating key insights,\n",
    "- And finally, visualizing and communicating findings through Tableau dashboards and a summary presentation.\n",
    "\n",
    "By the end of this analysis, we aim to have a clear, data-driven perspective on the demographics and conditions that most significantly impacted survival on the Titanic.\n"
   ]
  },
  {
   "cell_type": "markdown",
   "metadata": {},
   "source": [
    "# 2. Data Understanding\n",
    "\n",
    "The dataset used for this analysis is the Titanic Passenger Data, famously used in data science and machine learning education. It contains detailed information about passengers aboard the Titanic, including demographics, ticket details, and survival status.\n",
    "\n",
    "### Dataset Overview\n",
    "\n",
    "- **Total Rows:** 891\n",
    "- **Total Columns:** 12\n",
    "\n",
    "### 🧾 Column Descriptions\n",
    "| Column        | Description |\n",
    "|---------------|-------------|\n",
    "| `PassengerId` | Unique ID for each passenger |\n",
    "| `Survived`    | Survival status (0 = No, 1 = Yes) |\n",
    "| `Pclass`      | Ticket class (1 = 1st, 2 = 2nd, 3 = 3rd) |\n",
    "| `Name`        | Full name of the passenger |\n",
    "| `Sex`         | Gender |\n",
    "| `Age`         | Age in years |\n",
    "| `SibSp`       | # of siblings/spouses aboard the Titanic |\n",
    "| `Parch`       | # of parents/children aboard the Titanic |\n",
    "| `Ticket`      | Ticket number |\n",
    "| `Fare`        | Passenger fare |\n",
    "| `Cabin`       | Cabin number |\n",
    "| `Embarked`    | Port of embarkation (C = Cherbourg, Q = Queenstown, S = Southampton) |\n",
    "\n",
    "### Initial Observations\n",
    "\n",
    "- Some features contain missing values, notably `Age`, `Cabin`, and `Embarked`.\n",
    "- The `Survived` column will serve as our target variable for analysis.\n",
    "- A mix of categorical and numerical features will require appropriate handling.\n",
    "\n",
    "Before proceeding to data cleaning, we will perform basic exploration to better understand the data structure and potential challenges."
   ]
  },
  {
   "cell_type": "code",
   "execution_count": null,
   "id": "d23dd6f0",
   "metadata": {},
   "outputs": [],
   "source": []
  }
 ],
 "metadata": {
  "kernelspec": {
   "display_name": "Python 3 (ipykernel)",
   "language": "python",
   "name": "python3"
  },
  "language_info": {
   "codemirror_mode": {
    "name": "ipython",
    "version": 3
   },
   "file_extension": ".py",
   "mimetype": "text/x-python",
   "name": "python",
   "nbconvert_exporter": "python",
   "pygments_lexer": "ipython3",
   "version": "3.8.5"
  }
 },
 "nbformat": 4,
 "nbformat_minor": 5
}
